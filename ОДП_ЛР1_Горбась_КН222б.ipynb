{
 "cells": [
  {
   "cell_type": "markdown",
   "id": "415df085-fed7-4b63-8612-577738d5d610",
   "metadata": {},
   "source": [
    "# Горбась Артем КН222Б - Варіант 6"
   ]
  },
  {
   "cell_type": "markdown",
   "id": "18a25690-375c-4ed8-8c79-8406b8432785",
   "metadata": {},
   "source": [
    "# *Завдання 3*"
   ]
  },
  {
   "cell_type": "markdown",
   "id": "cab14fe8-2404-44c6-b34e-013960587e94",
   "metadata": {},
   "source": [
    "# Йорданія\n",
    "\n",
    "## Загальна інформація\n",
    "\n",
    "> **Площа:** 89,342 *км²*  \n",
    "> **Населення:** приблизно 10 мільйонів осіб (2023 рік)  \n",
    "> **Державний устрій:** конституційна монархія  \n",
    "\n",
    "---\n",
    "\n",
    "## Видатні персоналії\n",
    "\n",
    "1. **Король Абдалла II**\n",
    "   - Правитель з 1999 року\n",
    "   - Відомий своєю політичною стабільністю\n",
    "\n",
    "2. **Махмуд Дарвіш**\n",
    "   - Палестинський поет\n",
    "   - Проживав у Йорданії\n",
    "\n",
    "---\n",
    "\n",
    "## Пам'ятки культури та природи\n",
    "\n",
    "### Архітектурні пам'ятки\n",
    "\n",
    "- **Петра** - один з нових семи чудес світу\n",
    "- **Римський театр** в Аммані\n",
    "\n",
    "### Природні пам'ятки\n",
    "\n",
    "- **Мертве море** - найнижча точка на земній поверхні\n",
    "- **Національний парк Ваді Рум** - унікальний ландшафт пустелі\n",
    "\n",
    "---\n",
    "\n",
    "## Таблиця населення за роками\n",
    "\n",
    "| Рік  | Населення    |\n",
    "|------|--------------|\n",
    "| 2010 | 6,4 мільйона |\n",
    "| 2015 | 7,5 мільйона |\n",
    "| 2020 | 9,3 мільйона |\n",
    "| 2023 | 10 мільйонів |\n",
    "\n",
    "---\n",
    "\n",
    "## Картинки\n",
    "\n",
    "![Петра](https://external-content.duckduckgo.com/iu/?u=https%3A%2F%2Fwallpapercave.com%2Fwp%2Fwp2208073.jpg&f=1&nofb=1&ipt=1162b86fab6568756e21bd89fb2306fc6dfaf97a36ce0fb86a04474a95fb71be&ipo=images)\n",
    "\n",
    "[Перейти до статті про Петру](https://uk.wikipedia.org/wiki/Петра)\n",
    "\n",
    "---\n",
    "\n",
    "## Флаг країни"
   ]
  },
  {
   "cell_type": "code",
   "execution_count": 1,
   "id": "97a0c601-9007-4bc8-9473-787b6356205c",
   "metadata": {},
   "outputs": [
    {
     "data": {
      "text/html": [
       "<svg xmlns=\"http://www.w3.org/2000/svg\" viewBox=\"0 0 960 480\">\n",
       "  <rect width=\"960\" height=\"480\" fill=\"#007A33\"/>\n",
       "  <rect width=\"960\" height=\"320\" fill=\"#F3F3F3\"/>\n",
       "  <rect width=\"960\" height=\"160\" fill=\"#000000\"/>\n",
       "  <polygon points=\"0,0 0,480 320,240\" fill=\"#D50032\"/>\n",
       "  <circle cx=\"160\" cy=\"240\" r=\"40\" fill=\"#FFFFFF\"/>\n",
       "</svg>\n"
      ],
      "text/plain": [
       "<IPython.core.display.HTML object>"
      ]
     },
     "metadata": {},
     "output_type": "display_data"
    }
   ],
   "source": [
    "%%HTML\n",
    "<svg xmlns=\"http://www.w3.org/2000/svg\" viewBox=\"0 0 960 480\">\n",
    "  <rect width=\"960\" height=\"480\" fill=\"#007A33\"/>\n",
    "  <rect width=\"960\" height=\"320\" fill=\"#F3F3F3\"/>\n",
    "  <rect width=\"960\" height=\"160\" fill=\"#000000\"/>\n",
    "  <polygon points=\"0,0 0,480 320,240\" fill=\"#D50032\"/>\n",
    "  <circle cx=\"160\" cy=\"240\" r=\"40\" fill=\"#FFFFFF\"/>\n",
    "</svg>"
   ]
  },
  {
   "cell_type": "markdown",
   "id": "a349d2ee-00e9-4e55-9f45-a545ca3319b4",
   "metadata": {},
   "source": [
    "# *Завдання 4*"
   ]
  },
  {
   "cell_type": "code",
   "execution_count": 2,
   "id": "4d37938e-ed0a-48ec-8220-b2fc7fda2571",
   "metadata": {},
   "outputs": [
    {
     "name": "stdout",
     "output_type": "stream",
     "text": [
      "[11, 13, 17, 19, 23, 29]\n",
      "[2, 3, 5, 7]\n",
      "[53, 59, 61, 67, 71, 73, 79, 83, 89, 97]\n"
     ]
    }
   ],
   "source": [
    "def is_prime(n):\n",
    "    if n <= 1:\n",
    "        return False\n",
    "    for i in range(2, int(n**0.5) + 1):\n",
    "        if n % i == 0:\n",
    "            return False\n",
    "    return True\n",
    "\n",
    "def find_primes_in_range(a, b):\n",
    "    primes = []\n",
    "    for num in range(a, b + 1):\n",
    "        if is_prime(num):\n",
    "            primes.append(num)\n",
    "    return primes\n",
    "\n",
    "# Тестові приклади\n",
    "print(find_primes_in_range(10, 30))  # Правильний результат: 11, 13, 17, 19, 23, 29\n",
    "print(find_primes_in_range(1, 10))   # Правильний результат: 2, 3, 5, 7\n",
    "print(find_primes_in_range(50, 100)) # Правильний результат: 53, 59, 61, 67, 71, 73, 79, 83, 89, 97"
   ]
  }
 ],
 "metadata": {
  "kernelspec": {
   "display_name": "Python 3 (ipykernel)",
   "language": "python",
   "name": "python3"
  },
  "language_info": {
   "codemirror_mode": {
    "name": "ipython",
    "version": 3
   },
   "file_extension": ".py",
   "mimetype": "text/x-python",
   "name": "python",
   "nbconvert_exporter": "python",
   "pygments_lexer": "ipython3",
   "version": "3.11.9"
  }
 },
 "nbformat": 4,
 "nbformat_minor": 5
}
